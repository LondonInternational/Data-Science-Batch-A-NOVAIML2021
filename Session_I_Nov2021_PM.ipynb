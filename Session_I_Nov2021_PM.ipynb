{
  "nbformat": 4,
  "nbformat_minor": 0,
  "metadata": {
    "colab": {
      "name": "Session-I-Nov2021-PM.ipynb",
      "provenance": [],
      "collapsed_sections": [],
      "authorship_tag": "ABX9TyOEm5/b/zHgIOZ69Fu4LNPT",
      "include_colab_link": true
    },
    "kernelspec": {
      "name": "python3",
      "display_name": "Python 3"
    },
    "language_info": {
      "name": "python"
    }
  },
  "cells": [
    {
      "cell_type": "markdown",
      "metadata": {
        "id": "view-in-github",
        "colab_type": "text"
      },
      "source": [
        "<a href=\"https://colab.research.google.com/github/LondonInternational/Data-Science-Batch-A-NOVAIML2021/blob/main/Session_I_Nov2021_PM.ipynb\" target=\"_parent\"><img src=\"https://colab.research.google.com/assets/colab-badge.svg\" alt=\"Open In Colab\"/></a>"
      ]
    },
    {
      "cell_type": "code",
      "metadata": {
        "id": "oqyGsgQXkorC"
      },
      "source": [
        "#  Add Multi-line Comment - CTRL+/\n",
        "# Online Compiler:-\n",
        "# Google Colab\n",
        "# Repl.it\n",
        "\n",
        "# Local Compiler:- [IDE]\n",
        "# Anaconda Navigator\n",
        "# PyCharm"
      ],
      "execution_count": null,
      "outputs": []
    },
    {
      "cell_type": "code",
      "metadata": {
        "colab": {
          "base_uri": "https://localhost:8080/"
        },
        "id": "pYLlaQaqau0v",
        "outputId": "41a8caf5-8b22-4532-e41c-b99f64905f50"
      },
      "source": [
        "# This is my first program in Python (SLoC)\n",
        "'''\n",
        "This is a Multi-line Comment\n",
        "Author: Sanket\n",
        "Date: 02/11/2021\n",
        "'''\n",
        "print(\"hello world\")"
      ],
      "execution_count": null,
      "outputs": [
        {
          "output_type": "stream",
          "name": "stdout",
          "text": [
            "hello world\n"
          ]
        }
      ]
    },
    {
      "cell_type": "code",
      "metadata": {
        "colab": {
          "base_uri": "https://localhost:8080/"
        },
        "id": "4-PLV-e6ebRQ",
        "outputId": "b98de00e-3e1c-4208-ebd6-b8a93fc7d078"
      },
      "source": [
        "# To RUN the Code Snippet - PLAY or CTRL+Enter or CMD+Enter\n",
        "print(\"hello world\")\n",
        "print('hello world')\n",
        "print('''yorker''')\n",
        "print(\"\"\"youtube\"\"\")"
      ],
      "execution_count": null,
      "outputs": [
        {
          "output_type": "stream",
          "name": "stdout",
          "text": [
            "hello world\n",
            "hello world\n",
            "yorker\n",
            "youtube\n"
          ]
        }
      ]
    },
    {
      "cell_type": "code",
      "metadata": {
        "colab": {
          "base_uri": "https://localhost:8080/",
          "height": 167
        },
        "id": "j0BJf9xvglio",
        "outputId": "5cea8fbd-1639-4b53-b149-f01c4a5db381"
      },
      "source": [
        "# Python is a case-sensitive language\n",
        "PRINT(\"helloworld\")"
      ],
      "execution_count": null,
      "outputs": [
        {
          "output_type": "error",
          "ename": "NameError",
          "evalue": "ignored",
          "traceback": [
            "\u001b[0;31m---------------------------------------------------------------------------\u001b[0m",
            "\u001b[0;31mNameError\u001b[0m                                 Traceback (most recent call last)",
            "\u001b[0;32m<ipython-input-7-0449945b9291>\u001b[0m in \u001b[0;36m<module>\u001b[0;34m()\u001b[0m\n\u001b[0;32m----> 1\u001b[0;31m \u001b[0mPRINT\u001b[0m\u001b[0;34m(\u001b[0m\u001b[0;34m\"helloworld\"\u001b[0m\u001b[0;34m)\u001b[0m\u001b[0;34m\u001b[0m\u001b[0;34m\u001b[0m\u001b[0m\n\u001b[0m",
            "\u001b[0;31mNameError\u001b[0m: name 'PRINT' is not defined"
          ]
        }
      ]
    },
    {
      "cell_type": "code",
      "metadata": {
        "colab": {
          "base_uri": "https://localhost:8080/"
        },
        "id": "RCEi6BdMhMue",
        "outputId": "d9a05668-131b-4bcd-8126-4ec2db37a19b"
      },
      "source": [
        "print(\"helloworld\") # Built-in Function"
      ],
      "execution_count": null,
      "outputs": [
        {
          "output_type": "stream",
          "name": "stdout",
          "text": [
            "helloworld\n"
          ]
        }
      ]
    },
    {
      "cell_type": "code",
      "metadata": {
        "colab": {
          "base_uri": "https://localhost:8080/"
        },
        "id": "cAiApylzhWhi",
        "outputId": "dd213855-2de9-4c73-af9d-8c8dd4e83eab"
      },
      "source": [
        "x = 45 # definition  of x -> Declaration + Initialization\n",
        "print(x)"
      ],
      "execution_count": null,
      "outputs": [
        {
          "output_type": "stream",
          "name": "stdout",
          "text": [
            "45\n"
          ]
        }
      ]
    },
    {
      "cell_type": "code",
      "metadata": {
        "colab": {
          "base_uri": "https://localhost:8080/",
          "height": 185
        },
        "id": "9rVq1g1DhdKO",
        "outputId": "a378f541-12f5-4fd2-c055-1f07ce339cc7"
      },
      "source": [
        "NUM = 600\n",
        "print(num)"
      ],
      "execution_count": null,
      "outputs": [
        {
          "output_type": "error",
          "ename": "NameError",
          "evalue": "ignored",
          "traceback": [
            "\u001b[0;31m---------------------------------------------------------------------------\u001b[0m",
            "\u001b[0;31mNameError\u001b[0m                                 Traceback (most recent call last)",
            "\u001b[0;32m<ipython-input-12-e36854019fb5>\u001b[0m in \u001b[0;36m<module>\u001b[0;34m()\u001b[0m\n\u001b[1;32m      1\u001b[0m \u001b[0mNUM\u001b[0m \u001b[0;34m=\u001b[0m \u001b[0;36m600\u001b[0m\u001b[0;34m\u001b[0m\u001b[0;34m\u001b[0m\u001b[0m\n\u001b[0;32m----> 2\u001b[0;31m \u001b[0mprint\u001b[0m\u001b[0;34m(\u001b[0m\u001b[0mnum\u001b[0m\u001b[0;34m)\u001b[0m\u001b[0;34m\u001b[0m\u001b[0;34m\u001b[0m\u001b[0m\n\u001b[0m",
            "\u001b[0;31mNameError\u001b[0m: name 'num' is not defined"
          ]
        }
      ]
    },
    {
      "cell_type": "code",
      "metadata": {
        "colab": {
          "base_uri": "https://localhost:8080/"
        },
        "id": "GXCVAtwJiItR",
        "outputId": "aa405de9-08b2-421c-fd80-f8cebaf60c31"
      },
      "source": [
        "# List Of Operators in Python \n",
        "# Arithmetic Operators (+,-,/,*,**,//,%)\n",
        "\n",
        "print(3+4)  # + Addition Operator - Binary Operator \n",
        "print(3-4)\n",
        "print(3*4)\n",
        "print(13/4) # float division operator\n",
        "print(12/4) # float division operator\n",
        "print(13//4) # integer division operator - 3.25 --> it trims the fractional part and returns integer part --> 3\n",
        "print(23//3) # returns integer -> 7\n",
        "\n",
        "print(12**2) # Power Operator -> base ** exponent -> 12 ** 2 -> 144\n",
        "\n",
        "print(45 % 20) # Modulo Operator - Remainder Value -> 5\n",
        "print( 2020 % 4 )  # Remainder -> 0"
      ],
      "execution_count": null,
      "outputs": [
        {
          "output_type": "stream",
          "name": "stdout",
          "text": [
            "7\n",
            "-1\n",
            "12\n",
            "3.25\n",
            "3.0\n",
            "3\n",
            "7\n",
            "144\n",
            "5\n",
            "0\n"
          ]
        }
      ]
    },
    {
      "cell_type": "code",
      "metadata": {
        "colab": {
          "base_uri": "https://localhost:8080/"
        },
        "id": "W2CdTHi4l0HX",
        "outputId": "7884d33c-ce7e-46e0-d8cf-4689305fb6c1"
      },
      "source": [
        "# Relational Operators (<,>,>=,<=,!=,==) return True/False -> Boolean(1/0)(T/F)\n",
        "\n",
        "print(3<4)\n",
        "print(3>4)\n",
        "print(3<=4)\n",
        "print(3>=4)\n",
        "\n",
        "print(23 != 3) # not-equal-to [inequality operator] -> True\n",
        "print(23 == 3) # equal-to [equality operator] -> False\n"
      ],
      "execution_count": null,
      "outputs": [
        {
          "output_type": "stream",
          "name": "stdout",
          "text": [
            "True\n",
            "False\n",
            "True\n",
            "False\n",
            "True\n",
            "False\n"
          ]
        }
      ]
    },
    {
      "cell_type": "code",
      "metadata": {
        "colab": {
          "base_uri": "https://localhost:8080/"
        },
        "id": "RURGrrx1nAf0",
        "outputId": "018724c8-cefe-4e67-f80a-3aedacd9948c"
      },
      "source": [
        "# Logical Operators (and, or, not) return True/False -> Boolean(1/0)(T/F)\n",
        "\n",
        "print( 56<4 and 56>78) # and operator returns True if both operands are True\n",
        "print( True and True) \n",
        "print( False and False)\n",
        "print( False and True)\n",
        "print( True and False)"
      ],
      "execution_count": null,
      "outputs": [
        {
          "output_type": "stream",
          "name": "stdout",
          "text": [
            "False\n",
            "True\n",
            "False\n",
            "False\n",
            "False\n"
          ]
        }
      ]
    },
    {
      "cell_type": "code",
      "metadata": {
        "id": "fK5RzZZslnUV"
      },
      "source": [
        ""
      ],
      "execution_count": null,
      "outputs": []
    },
    {
      "cell_type": "code",
      "metadata": {
        "colab": {
          "base_uri": "https://localhost:8080/"
        },
        "id": "bK55Qyzoot8A",
        "outputId": "e18c66c4-cb6e-46fd-eb16-9548d8fb82c1"
      },
      "source": [
        "print( 56<4 or 56>78) # or operator returns True if atleast one of the operands is True\n",
        "print( 56<4 or 56>78) # False or False -> False\n",
        "print( True or True) \n",
        "print( False or False)\n",
        "print( False or True)\n",
        "print( True or False)"
      ],
      "execution_count": null,
      "outputs": [
        {
          "output_type": "stream",
          "name": "stdout",
          "text": [
            "False\n",
            "True\n",
            "False\n",
            "True\n",
            "True\n"
          ]
        }
      ]
    },
    {
      "cell_type": "code",
      "metadata": {
        "colab": {
          "base_uri": "https://localhost:8080/"
        },
        "id": "JebvaW3HpqXp",
        "outputId": "f0790957-3997-4a64-dd44-107958944020"
      },
      "source": [
        "# not is a unary operator - inverts the value (True->False) (False->True)\n",
        "\n",
        "print( not True) # not True -> False\n",
        "print( not (56<67)) # not True -> False\n",
        "\n",
        "\n",
        "\n",
        "age = 30\n",
        "\n"
      ],
      "execution_count": null,
      "outputs": [
        {
          "output_type": "stream",
          "name": "stdout",
          "text": [
            "False\n",
            "False\n"
          ]
        }
      ]
    },
    {
      "cell_type": "code",
      "metadata": {
        "colab": {
          "base_uri": "https://localhost:8080/",
          "height": 132
        },
        "id": "6nQrFWUGnz7X",
        "outputId": "8401f31b-f469-4c2e-f8af-fa4c246f3ed8"
      },
      "source": [
        "True = 34"
      ],
      "execution_count": null,
      "outputs": [
        {
          "output_type": "error",
          "ename": "SyntaxError",
          "evalue": "ignored",
          "traceback": [
            "\u001b[0;36m  File \u001b[0;32m\"<ipython-input-33-f25db97a8c3c>\"\u001b[0;36m, line \u001b[0;32m1\u001b[0m\n\u001b[0;31m    True = 34\u001b[0m\n\u001b[0m             ^\u001b[0m\n\u001b[0;31mSyntaxError\u001b[0m\u001b[0;31m:\u001b[0m can't assign to keyword\n"
          ]
        }
      ]
    },
    {
      "cell_type": "code",
      "metadata": {
        "id": "2w64f4utmSai"
      },
      "source": [
        ""
      ],
      "execution_count": null,
      "outputs": []
    }
  ]
}