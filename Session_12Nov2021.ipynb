{
  "nbformat": 4,
  "nbformat_minor": 0,
  "metadata": {
    "colab": {
      "name": "Session_12Nov2021.ipynb",
      "provenance": [],
      "collapsed_sections": [],
      "authorship_tag": "ABX9TyP+DaWMxaYdRgo+7wBlO2wW",
      "include_colab_link": true
    },
    "kernelspec": {
      "name": "python3",
      "display_name": "Python 3"
    },
    "language_info": {
      "name": "python"
    }
  },
  "cells": [
    {
      "cell_type": "markdown",
      "metadata": {
        "id": "view-in-github",
        "colab_type": "text"
      },
      "source": [
        "<a href=\"https://colab.research.google.com/github/LondonInternational/Data-Science-Batch-A-NOVAIML2021/blob/main/Session_12Nov2021.ipynb\" target=\"_parent\"><img src=\"https://colab.research.google.com/assets/colab-badge.svg\" alt=\"Open In Colab\"/></a>"
      ]
    },
    {
      "cell_type": "code",
      "metadata": {
        "colab": {
          "base_uri": "https://localhost:8080/",
          "height": 35
        },
        "id": "kV8HqDwX9EAH",
        "outputId": "2cf84826-a3a0-4395-b996-f1d1411dbb1f"
      },
      "source": [
        "# Single Line of Comment -> Use prefix # before your textual comment\n",
        "'''\n",
        "Multi-line Comment\n",
        "Author: Sanket\n",
        "Date: 12 Nov 2021\n",
        "Subject: Introduction to Python Programmming\n",
        "'''\n",
        "# CTRL + Enter -> Run Code Cell"
      ],
      "execution_count": 1,
      "outputs": [
        {
          "output_type": "execute_result",
          "data": {
            "application/vnd.google.colaboratory.intrinsic+json": {
              "type": "string"
            },
            "text/plain": [
              "'\\nMulti-line Comment\\nAuthor: Sanket\\nDate: 12 Nov 2021\\nSubject: Introduction to Python Programmming\\n'"
            ]
          },
          "metadata": {},
          "execution_count": 1
        }
      ]
    },
    {
      "cell_type": "code",
      "metadata": {
        "colab": {
          "base_uri": "https://localhost:8080/"
        },
        "id": "Ds-rwsSa_0qb",
        "outputId": "ce88c77d-b20e-4a00-98a7-1b3d45e7c8b1"
      },
      "source": [
        "print('hello world')"
      ],
      "execution_count": 2,
      "outputs": [
        {
          "output_type": "stream",
          "name": "stdout",
          "text": [
            "hello world\n"
          ]
        }
      ]
    },
    {
      "cell_type": "code",
      "metadata": {
        "id": "BKtOfCDYAG7H"
      },
      "source": [
        "# Types of Function: \n",
        "# 1. Built-in Functions/System-defined Functions - print()\n",
        "# 2. User-defined Functions - getareaofCircle(radius)"
      ],
      "execution_count": 3,
      "outputs": []
    },
    {
      "cell_type": "code",
      "metadata": {
        "colab": {
          "base_uri": "https://localhost:8080/"
        },
        "id": "9tQZ2NqCAa_d",
        "outputId": "a10763e1-3659-4f05-8156-3311790519a9"
      },
      "source": [
        "print('hello world')\n",
        "print(\"hello world\")\n",
        "print(\"\"\"hello world\"\"\")\n",
        "print('''hello world''')"
      ],
      "execution_count": 4,
      "outputs": [
        {
          "output_type": "stream",
          "name": "stdout",
          "text": [
            "hello world\n",
            "hello world\n",
            "hello world\n",
            "hello world\n"
          ]
        }
      ]
    },
    {
      "cell_type": "code",
      "metadata": {
        "colab": {
          "base_uri": "https://localhost:8080/"
        },
        "id": "VWb7BF-OAwCF",
        "outputId": "9b5dfe84-ae9b-4667-e92b-6727004be0da"
      },
      "source": [
        "print(\"hello'world\")  # hello'world"
      ],
      "execution_count": 5,
      "outputs": [
        {
          "output_type": "stream",
          "name": "stdout",
          "text": [
            "hello'world\n"
          ]
        }
      ]
    },
    {
      "cell_type": "code",
      "metadata": {
        "colab": {
          "base_uri": "https://localhost:8080/"
        },
        "id": "fwOeOyaVBOX7",
        "outputId": "76749f7d-b64c-4c47-f07c-2da9d30d83a3"
      },
      "source": [
        "print('hello\\'world')  # hello'world  # Use Escape Character \\"
      ],
      "execution_count": 6,
      "outputs": [
        {
          "output_type": "stream",
          "name": "stdout",
          "text": [
            "hello'world\n"
          ]
        }
      ]
    },
    {
      "cell_type": "code",
      "metadata": {
        "colab": {
          "base_uri": "https://localhost:8080/"
        },
        "id": "0TvTEw7UBZ0E",
        "outputId": "1545a19f-e8e3-4988-bf7d-4ab324283317"
      },
      "source": [
        "# hello '\"\"' world\n",
        "print('hello \\'\\\"\\\"\\' world')\n",
        "print(\"\"\"hello '\"\"' world \"\"\")"
      ],
      "execution_count": 7,
      "outputs": [
        {
          "output_type": "stream",
          "name": "stdout",
          "text": [
            "hello '\"\"' world\n",
            "hello '\"\"' world \n"
          ]
        }
      ]
    },
    {
      "cell_type": "code",
      "metadata": {
        "colab": {
          "base_uri": "https://localhost:8080/",
          "height": 132
        },
        "id": "Dl_mB0wFCwHw",
        "outputId": "bf777b3c-1605-446c-e48e-89e883e65498"
      },
      "source": [
        "print('hello)"
      ],
      "execution_count": 8,
      "outputs": [
        {
          "output_type": "error",
          "ename": "SyntaxError",
          "evalue": "ignored",
          "traceback": [
            "\u001b[0;36m  File \u001b[0;32m\"<ipython-input-8-126035ba983d>\"\u001b[0;36m, line \u001b[0;32m1\u001b[0m\n\u001b[0;31m    print('hello)\u001b[0m\n\u001b[0m                 ^\u001b[0m\n\u001b[0;31mSyntaxError\u001b[0m\u001b[0;31m:\u001b[0m EOL while scanning string literal\n"
          ]
        }
      ]
    },
    {
      "cell_type": "code",
      "metadata": {
        "id": "HEZyRouADKGR"
      },
      "source": [
        "x = 90 # Variable Declaration - define & initialise\n",
        "print(x)"
      ],
      "execution_count": null,
      "outputs": []
    },
    {
      "cell_type": "code",
      "metadata": {
        "id": "0U_gi2J0DaoP"
      },
      "source": [
        "# Python is a case sensitive language\n",
        "num = 90 \n",
        "print(NUM)"
      ],
      "execution_count": null,
      "outputs": []
    },
    {
      "cell_type": "code",
      "metadata": {
        "id": "gFVZ9hdcDymX"
      },
      "source": [
        "Print('hello')"
      ],
      "execution_count": null,
      "outputs": []
    },
    {
      "cell_type": "code",
      "metadata": {
        "id": "LZXuZbuMEDo-"
      },
      "source": [
        "True = 90\n"
      ],
      "execution_count": null,
      "outputs": []
    },
    {
      "cell_type": "code",
      "metadata": {
        "id": "aXhldtJeFSZo"
      },
      "source": [
        "true = 90\n"
      ],
      "execution_count": null,
      "outputs": []
    },
    {
      "cell_type": "code",
      "metadata": {
        "id": "e9B2IditFdqd"
      },
      "source": [
        "# List of Operators in Python - CTRL+/[adding a comment] - Binary/Unary\n",
        "# Arithmetic Operators (+,-,*,/,**,//,%)\n",
        "\n",
        "print(34+2)\n",
        "print(34-2) # binary\n",
        "print(-5) # unary\n",
        "print(34*2)\n",
        "print(34/2)\n",
        "print('-----------------------')\n",
        "print(3 ** 2) # power operator - syntax - base**power\n",
        "print(2 ** 3) # power operator - syntax - base**power\n",
        "print( 2 ** 0.5) # squareroot of 2\n",
        "print('---------------------')\n",
        "print(34/5) # Float Division Operator - as it returns float value always\n",
        "print(34//5) # Integer Division Operator - as it returns integer value always\n",
        "print('---------------------')\n",
        "print(45 % 3) # Modulo Operator - Modulus Operator - it returns remainder value\n",
        "print( 19 % 5)"
      ],
      "execution_count": null,
      "outputs": []
    },
    {
      "cell_type": "code",
      "metadata": {
        "id": "Ok82KsPZJhIj"
      },
      "source": [
        "# Relational Operators - [<,>,>=,<=,==,!=] - Return True/False [Boolean]\n",
        "\n",
        "print(3<5)\n",
        "print(3>5)\n",
        "print(3<=5)\n",
        "print(3>=5)\n",
        "print(3==4) # equality operator - true if both operands are equal\n",
        "print(3!=4) # inequality operator - true if both operands are not equal"
      ],
      "execution_count": null,
      "outputs": []
    },
    {
      "cell_type": "code",
      "metadata": {
        "id": "62XcOwy8KQrC"
      },
      "source": [
        "# Logical Operators - [and, or, not] - Return True/False [Boolean]\n",
        "\n",
        "# laura and simon should be present to start operations in office\n",
        "print( (3<4) and (78>0) )  # and Operator - returns True only if both operands are True\n",
        "\n",
        "\n",
        "# laura or simon should be present to start operations in office, if both are absent, operations cant be started\n",
        "print( (3<4) or (78>0) )  # and Operator - returns True if one of the operands is True\n",
        "\n",
        "\n",
        "# inverts the boolean value if True then False | if False then True\n",
        "print(not (67>7)) # not (True) -> False\n",
        "print( not (not True))  # True -> -(-2) -> 2"
      ],
      "execution_count": null,
      "outputs": []
    },
    {
      "cell_type": "code",
      "metadata": {
        "id": "npyoNFKrMC_h"
      },
      "source": [
        "# Membership Operators [ in, not in]  - Return True/False [Boolean]\n",
        "\n",
        "numList = [4,5,67,34,'amit']\n",
        "print( 34 in numList) # True\n",
        "print( '34' in numList) # False\n",
        "\n",
        "print('a' in 'amit') # True\n",
        "print( 90 not in numList)\n"
      ],
      "execution_count": null,
      "outputs": []
    },
    {
      "cell_type": "code",
      "metadata": {
        "id": "BWnaLmVyM4df"
      },
      "source": [
        "# Identity Operators - [is, is not] - Return True/False [Boolean]  ==,!=\n",
        "\n",
        "print(4 is 5)\n",
        "print(4 is not 5)"
      ],
      "execution_count": null,
      "outputs": []
    },
    {
      "cell_type": "code",
      "metadata": {
        "id": "TGu-8uajNQvR"
      },
      "source": [
        "# Bitwise Operators - works on binary values[1,0] - [&,|,~,>>,<<,^] = True/1 ,  False/0\n",
        "# NUmber Systems-\n",
        "    # 1. Decimal Number Systems [0-9]\n",
        "    # 2. Binary Number System [0-1]\n",
        "    # 3. Octal NUmber System [0-7]\n",
        "    # 4. Hexadecimal NUmber System [0-9,A-F]\n",
        "\n",
        "\n",
        "print( 4 & 3)\n",
        "\n",
        "# # 4 -> 0100\n",
        "      #  &\n",
        "# # 3 -> 0011\n",
        "#     -----------\n",
        "#        0000  ---> 0\n",
        "\n",
        "\n",
        "\n",
        "print( 4 & 11)\n",
        "\n",
        "# # 4 -> 0100\n",
        "        # &\n",
        "# # 11-> 1011\n",
        "#     -----------\n",
        "#        0000[binary]  ---> 0[decimal]\n",
        "\n",
        "print( 3  & 5 )\n",
        "\n",
        "# # 3 -> 0011\n",
        "        # &\n",
        "# # 5->  0101\n",
        "#     -----------\n",
        "#        0001[binary]  ---> 1[decimal]\n"
      ],
      "execution_count": null,
      "outputs": []
    },
    {
      "cell_type": "code",
      "metadata": {
        "id": "35w6HeTaTGbK"
      },
      "source": [
        "print( 3 & 2)\n",
        "\n",
        "# # 2 -> 0010\n",
        "      #  &\n",
        "# # 3 -> 0011\n",
        "#     -----------\n",
        "#       [0010]  ---> 2\n"
      ],
      "execution_count": null,
      "outputs": []
    },
    {
      "cell_type": "code",
      "metadata": {
        "id": "E-62JV_2QKZR"
      },
      "source": [
        "# Right-shift Operator - value >> pos\n",
        "print( 4 >> 1) # 4 --> 0100 -> 0010 -> 2\n",
        "\n",
        "print( 5 >> 1) # 5 --> 0101 -> 0010 -> 2\n"
      ],
      "execution_count": null,
      "outputs": []
    },
    {
      "cell_type": "code",
      "metadata": {
        "id": "7XI8c4vARJRl"
      },
      "source": [
        "# Left-shift Operator - value << pos\n",
        "print( 4 << 1) # 4 --> 0100 -> 1000 -> 8\n",
        "\n",
        "print( 5 << 1) # 5 --> 0101 -> 1010 -> 10"
      ],
      "execution_count": null,
      "outputs": []
    },
    {
      "cell_type": "code",
      "metadata": {
        "id": "Wuiosi0ZSbiR"
      },
      "source": [
        "# Assignment Operators [=,+=,-=,/=,*=,...]\n",
        "\n",
        "x = 99\n",
        "print(x)\n",
        "\n",
        "x += 1   # x = x + 1\n",
        "print(x)"
      ],
      "execution_count": null,
      "outputs": []
    },
    {
      "cell_type": "code",
      "metadata": {
        "id": "183Y0dmESLZ-"
      },
      "source": [
        "# ASCII, Unicode - ord() - order function, chr() - character function\n",
        "\n",
        "print(chr(1572)) # return respective character for unicode number\n",
        "\n",
        "print(ord('ؤ')) # return respective unicode number for a given character\n",
        "\n",
        "print(ord('अ')) #return respective unicode number for a given character\n",
        "\n"
      ],
      "execution_count": null,
      "outputs": []
    },
    {
      "cell_type": "code",
      "metadata": {
        "id": "7oixFNg_ah8w"
      },
      "source": [
        "print('helloworld')\n",
        "print('hello \\n world')  # line break - new line\n",
        "print('hello \\t world') # tab break - tab space"
      ],
      "execution_count": null,
      "outputs": []
    },
    {
      "cell_type": "code",
      "metadata": {
        "id": "slcuOEFZa_rU"
      },
      "source": [
        "x = 90\n",
        "print('my granpa\\'s age is', x)\n"
      ],
      "execution_count": null,
      "outputs": []
    },
    {
      "cell_type": "code",
      "metadata": {
        "id": "3cajUERKcKyK"
      },
      "source": [
        "print('my granpa\\'s age is '+ str(x))  # type-casting"
      ],
      "execution_count": null,
      "outputs": []
    },
    {
      "cell_type": "code",
      "metadata": {
        "id": "Jv_th4khacDR"
      },
      "source": [
        "\n",
        "\n",
        "print( 3 + 4) # int + int -> int [addition]\n",
        "print( 'ca' + 'ad') # string + string -> string [concatenation]\n",
        "print( 90.99 + 56)  # float + int -> float [addition]\n"
      ],
      "execution_count": null,
      "outputs": []
    },
    {
      "cell_type": "code",
      "metadata": {
        "id": "9A_wZ4pHbu4-"
      },
      "source": [
        "print ( 'cat' + 90) \n",
        "\n",
        "# string + integer -> [confusion] - add/concatenate?? --> TypeError --> Incompatibility Issue "
      ],
      "execution_count": null,
      "outputs": []
    },
    {
      "cell_type": "code",
      "metadata": {
        "colab": {
          "base_uri": "https://localhost:8080/"
        },
        "id": "KjpT1WP5cGdm",
        "outputId": "3b3a9e1e-ffa0-4562-c1d8-3a3d24e99e51"
      },
      "source": [
        "# Type-casting [Type Conversion Function] - int(), float(), str() - Built-in Functions\n",
        "\n",
        "num = 89.6767\n",
        "print(num)\n",
        "num = int(num)\n",
        "print(num)\n"
      ],
      "execution_count": 9,
      "outputs": [
        {
          "output_type": "stream",
          "name": "stdout",
          "text": [
            "89.6767\n",
            "89\n"
          ]
        }
      ]
    },
    {
      "cell_type": "code",
      "metadata": {
        "colab": {
          "base_uri": "https://localhost:8080/"
        },
        "id": "DCyLQzTpdFCL",
        "outputId": "295059ab-85f6-4cf9-fa2b-49ee97259824"
      },
      "source": [
        "num = 89\n",
        "print(num)\n",
        "num = float(num)\n",
        "print(num)\n"
      ],
      "execution_count": 10,
      "outputs": [
        {
          "output_type": "stream",
          "name": "stdout",
          "text": [
            "89\n",
            "89.0\n"
          ]
        }
      ]
    },
    {
      "cell_type": "code",
      "metadata": {
        "colab": {
          "base_uri": "https://localhost:8080/",
          "height": 185
        },
        "id": "HrlndqaBd3nR",
        "outputId": "b6cd5821-4ddb-4f4d-ad30-12e9ff64a587"
      },
      "source": [
        "myString ='amit'\n",
        "print(int(myString)) "
      ],
      "execution_count": 11,
      "outputs": [
        {
          "output_type": "error",
          "ename": "ValueError",
          "evalue": "ignored",
          "traceback": [
            "\u001b[0;31m---------------------------------------------------------------------------\u001b[0m",
            "\u001b[0;31mValueError\u001b[0m                                Traceback (most recent call last)",
            "\u001b[0;32m<ipython-input-11-92a16a5cc8a8>\u001b[0m in \u001b[0;36m<module>\u001b[0;34m()\u001b[0m\n\u001b[1;32m      1\u001b[0m \u001b[0mmyString\u001b[0m \u001b[0;34m=\u001b[0m\u001b[0;34m'amit'\u001b[0m\u001b[0;34m\u001b[0m\u001b[0;34m\u001b[0m\u001b[0m\n\u001b[0;32m----> 2\u001b[0;31m \u001b[0mprint\u001b[0m\u001b[0;34m(\u001b[0m\u001b[0mint\u001b[0m\u001b[0;34m(\u001b[0m\u001b[0mmyString\u001b[0m\u001b[0;34m)\u001b[0m\u001b[0;34m)\u001b[0m\u001b[0;34m\u001b[0m\u001b[0;34m\u001b[0m\u001b[0m\n\u001b[0m",
            "\u001b[0;31mValueError\u001b[0m: invalid literal for int() with base 10: 'amit'"
          ]
        }
      ]
    },
    {
      "cell_type": "code",
      "metadata": {
        "colab": {
          "base_uri": "https://localhost:8080/",
          "height": 167
        },
        "id": "ICKLCF6PecDo",
        "outputId": "2a745b96-da53-40e8-f5b6-90a8a13228cd"
      },
      "source": [
        "print(int('cat'))"
      ],
      "execution_count": 12,
      "outputs": [
        {
          "output_type": "error",
          "ename": "ValueError",
          "evalue": "ignored",
          "traceback": [
            "\u001b[0;31m---------------------------------------------------------------------------\u001b[0m",
            "\u001b[0;31mValueError\u001b[0m                                Traceback (most recent call last)",
            "\u001b[0;32m<ipython-input-12-e17cadcf4cbf>\u001b[0m in \u001b[0;36m<module>\u001b[0;34m()\u001b[0m\n\u001b[0;32m----> 1\u001b[0;31m \u001b[0mprint\u001b[0m\u001b[0;34m(\u001b[0m\u001b[0mint\u001b[0m\u001b[0;34m(\u001b[0m\u001b[0;34m'cat'\u001b[0m\u001b[0;34m)\u001b[0m\u001b[0;34m)\u001b[0m\u001b[0;34m\u001b[0m\u001b[0;34m\u001b[0m\u001b[0m\n\u001b[0m",
            "\u001b[0;31mValueError\u001b[0m: invalid literal for int() with base 10: 'cat'"
          ]
        }
      ]
    },
    {
      "cell_type": "code",
      "metadata": {
        "colab": {
          "base_uri": "https://localhost:8080/"
        },
        "id": "EkYa0jfeeewR",
        "outputId": "f5416c1d-da2e-4636-acbe-1f11a2262935"
      },
      "source": [
        "print(int('567')) # int(string) "
      ],
      "execution_count": 13,
      "outputs": [
        {
          "output_type": "stream",
          "name": "stdout",
          "text": [
            "567\n"
          ]
        }
      ]
    },
    {
      "cell_type": "code",
      "metadata": {
        "colab": {
          "base_uri": "https://localhost:8080/"
        },
        "id": "la6GwXzKekDI",
        "outputId": "654f26a3-6694-443d-829c-a21ee80483e7"
      },
      "source": [
        "errorVal = 400\n",
        "\n",
        "print('Bad Request '+ str(errorVal))\n",
        "print('Bad Request',errorVal)\n"
      ],
      "execution_count": 17,
      "outputs": [
        {
          "output_type": "stream",
          "name": "stdout",
          "text": [
            "Bad Request 400\n",
            "Bad Request 400\n"
          ]
        }
      ]
    },
    {
      "cell_type": "code",
      "metadata": {
        "colab": {
          "base_uri": "https://localhost:8080/"
        },
        "id": "AbQxEp78fKII",
        "outputId": "33324413-aeb4-4b80-85da-89c79177e3f4"
      },
      "source": [
        "x = 90\n",
        "y = 12\n",
        "print(x,y)\n",
        "x,y = 90,12  # multi-assignment\n",
        "print(x,y)"
      ],
      "execution_count": 20,
      "outputs": [
        {
          "output_type": "stream",
          "name": "stdout",
          "text": [
            "90 12\n",
            "90 12\n"
          ]
        }
      ]
    },
    {
      "cell_type": "code",
      "metadata": {
        "colab": {
          "base_uri": "https://localhost:8080/",
          "height": 167
        },
        "id": "HznngcibfevF",
        "outputId": "dd02e7de-10aa-4311-942d-563b9ebd466a"
      },
      "source": [
        "x,y,z = 3,4"
      ],
      "execution_count": 21,
      "outputs": [
        {
          "output_type": "error",
          "ename": "ValueError",
          "evalue": "ignored",
          "traceback": [
            "\u001b[0;31m---------------------------------------------------------------------------\u001b[0m",
            "\u001b[0;31mValueError\u001b[0m                                Traceback (most recent call last)",
            "\u001b[0;32m<ipython-input-21-b74cc6f3f848>\u001b[0m in \u001b[0;36m<module>\u001b[0;34m()\u001b[0m\n\u001b[0;32m----> 1\u001b[0;31m \u001b[0mx\u001b[0m\u001b[0;34m,\u001b[0m\u001b[0my\u001b[0m\u001b[0;34m,\u001b[0m\u001b[0mz\u001b[0m \u001b[0;34m=\u001b[0m \u001b[0;36m3\u001b[0m\u001b[0;34m,\u001b[0m\u001b[0;36m4\u001b[0m\u001b[0;34m\u001b[0m\u001b[0;34m\u001b[0m\u001b[0m\n\u001b[0m",
            "\u001b[0;31mValueError\u001b[0m: not enough values to unpack (expected 3, got 2)"
          ]
        }
      ]
    },
    {
      "cell_type": "code",
      "metadata": {
        "colab": {
          "base_uri": "https://localhost:8080/",
          "height": 132
        },
        "id": "nmTqJW62fruX",
        "outputId": "c2fa2723-e0fe-4f00-8d1b-ab59d888d431"
      },
      "source": [
        "# Python is space-sensitive language\n",
        "x=90\n",
        "  y=45\n",
        "z=888"
      ],
      "execution_count": 22,
      "outputs": [
        {
          "output_type": "error",
          "ename": "IndentationError",
          "evalue": "ignored",
          "traceback": [
            "\u001b[0;36m  File \u001b[0;32m\"<ipython-input-22-47998bf62026>\"\u001b[0;36m, line \u001b[0;32m3\u001b[0m\n\u001b[0;31m    y=45\u001b[0m\n\u001b[0m    ^\u001b[0m\n\u001b[0;31mIndentationError\u001b[0m\u001b[0;31m:\u001b[0m unexpected indent\n"
          ]
        }
      ]
    },
    {
      "cell_type": "code",
      "metadata": {
        "id": "9GLKMFwOgKo4"
      },
      "source": [
        "# NameError\n",
        "# TypeError\n",
        "# ValueError\n",
        "# IndentationError\n",
        "# SyntaxError\n",
        "# ZeroDivisionError\n",
        "# AttributeError"
      ],
      "execution_count": 24,
      "outputs": []
    },
    {
      "cell_type": "code",
      "metadata": {
        "colab": {
          "base_uri": "https://localhost:8080/",
          "height": 167
        },
        "id": "kiTB6doegZYP",
        "outputId": "b80302cd-e5f6-4c2e-d043-8a66c50071be"
      },
      "source": [
        "print(34/0) # ZeroDivisionError: division by zero"
      ],
      "execution_count": 25,
      "outputs": [
        {
          "output_type": "error",
          "ename": "ZeroDivisionError",
          "evalue": "ignored",
          "traceback": [
            "\u001b[0;31m---------------------------------------------------------------------------\u001b[0m",
            "\u001b[0;31mZeroDivisionError\u001b[0m                         Traceback (most recent call last)",
            "\u001b[0;32m<ipython-input-25-16198d11ec5c>\u001b[0m in \u001b[0;36m<module>\u001b[0;34m()\u001b[0m\n\u001b[0;32m----> 1\u001b[0;31m \u001b[0mprint\u001b[0m\u001b[0;34m(\u001b[0m\u001b[0;36m34\u001b[0m\u001b[0;34m/\u001b[0m\u001b[0;36m0\u001b[0m\u001b[0;34m)\u001b[0m \u001b[0;31m# ZeroDivisionError: division by zero\u001b[0m\u001b[0;34m\u001b[0m\u001b[0;34m\u001b[0m\u001b[0m\n\u001b[0m",
            "\u001b[0;31mZeroDivisionError\u001b[0m: division by zero"
          ]
        }
      ]
    },
    {
      "cell_type": "code",
      "metadata": {
        "colab": {
          "base_uri": "https://localhost:8080/"
        },
        "id": "wpl2-dMog0Aj",
        "outputId": "e57ba895-ac02-43b6-df40-b4b8e6dbe75e"
      },
      "source": [
        "# Math Library \n",
        "import math \n",
        "\n",
        "val = math.tau\n",
        "print(val)\n",
        "\n",
        "val = math.pi\n",
        "print(val)\n",
        "\n",
        "val = math.e\n",
        "print(val)"
      ],
      "execution_count": 30,
      "outputs": [
        {
          "output_type": "stream",
          "name": "stdout",
          "text": [
            "6.283185307179586\n",
            "3.141592653589793\n",
            "2.718281828459045\n"
          ]
        }
      ]
    },
    {
      "cell_type": "code",
      "metadata": {
        "colab": {
          "base_uri": "https://localhost:8080/",
          "height": 167
        },
        "id": "32NHRueSkF0l",
        "outputId": "d7c8b2fc-dea6-4382-8e5b-b020dc188dd2"
      },
      "source": [
        "print(math.lcm(4,5))"
      ],
      "execution_count": 31,
      "outputs": [
        {
          "output_type": "error",
          "ename": "AttributeError",
          "evalue": "ignored",
          "traceback": [
            "\u001b[0;31m---------------------------------------------------------------------------\u001b[0m",
            "\u001b[0;31mAttributeError\u001b[0m                            Traceback (most recent call last)",
            "\u001b[0;32m<ipython-input-31-6f44de8a3d61>\u001b[0m in \u001b[0;36m<module>\u001b[0;34m()\u001b[0m\n\u001b[0;32m----> 1\u001b[0;31m \u001b[0mprint\u001b[0m\u001b[0;34m(\u001b[0m\u001b[0mmath\u001b[0m\u001b[0;34m.\u001b[0m\u001b[0mlcm\u001b[0m\u001b[0;34m(\u001b[0m\u001b[0;36m4\u001b[0m\u001b[0;34m,\u001b[0m\u001b[0;36m5\u001b[0m\u001b[0;34m)\u001b[0m\u001b[0;34m)\u001b[0m\u001b[0;34m\u001b[0m\u001b[0;34m\u001b[0m\u001b[0m\n\u001b[0m",
            "\u001b[0;31mAttributeError\u001b[0m: module 'math' has no attribute 'lcm'"
          ]
        }
      ]
    },
    {
      "cell_type": "code",
      "metadata": {
        "colab": {
          "base_uri": "https://localhost:8080/"
        },
        "id": "HV8yUzgghB2r",
        "outputId": "2e71da00-e398-4537-defc-8e6ef400451c"
      },
      "source": [
        "import sys\n",
        "print(sys.version)"
      ],
      "execution_count": 26,
      "outputs": [
        {
          "output_type": "stream",
          "name": "stdout",
          "text": [
            "3.7.12 (default, Sep 10 2021, 00:21:48) \n",
            "[GCC 7.5.0]\n"
          ]
        }
      ]
    },
    {
      "cell_type": "code",
      "metadata": {
        "colab": {
          "base_uri": "https://localhost:8080/",
          "height": 167
        },
        "id": "NeKQSMQWjqjE",
        "outputId": "5ed528a8-2903-4141-9a1f-8e457479a7df"
      },
      "source": [
        "print(math.plank)"
      ],
      "execution_count": 32,
      "outputs": [
        {
          "output_type": "error",
          "ename": "AttributeError",
          "evalue": "ignored",
          "traceback": [
            "\u001b[0;31m---------------------------------------------------------------------------\u001b[0m",
            "\u001b[0;31mAttributeError\u001b[0m                            Traceback (most recent call last)",
            "\u001b[0;32m<ipython-input-32-4fb4e035e44e>\u001b[0m in \u001b[0;36m<module>\u001b[0;34m()\u001b[0m\n\u001b[0;32m----> 1\u001b[0;31m \u001b[0mprint\u001b[0m\u001b[0;34m(\u001b[0m\u001b[0mmath\u001b[0m\u001b[0;34m.\u001b[0m\u001b[0mplank\u001b[0m\u001b[0;34m)\u001b[0m\u001b[0;34m\u001b[0m\u001b[0;34m\u001b[0m\u001b[0m\n\u001b[0m",
            "\u001b[0;31mAttributeError\u001b[0m: module 'math' has no attribute 'plank'"
          ]
        }
      ]
    },
    {
      "cell_type": "code",
      "metadata": {
        "colab": {
          "base_uri": "https://localhost:8080/"
        },
        "id": "a5Nt994Kk2J3",
        "outputId": "661526b4-138e-4b54-d509-69dce693648f"
      },
      "source": [
        "print(math.inf) # Pseudo  Positive infinity value -maximum value based on local resoruces[RAM/Processor]\n",
        "\n",
        "x =math.inf\n",
        "print(x>0)\n",
        "print(x>222222223434334353535553535553555668886880)\n",
        "\n",
        "print('--------------------------------------------')\n",
        "\n",
        "x=-math.inf\n",
        "print(x>0)\n",
        "print(x>222222223434334353535553535553555668886880)\n",
        "print(x<0)\n"
      ],
      "execution_count": 37,
      "outputs": [
        {
          "output_type": "stream",
          "name": "stdout",
          "text": [
            "inf\n",
            "True\n",
            "True\n",
            "--------------------------------------------\n",
            "False\n",
            "False\n",
            "True\n"
          ]
        }
      ]
    },
    {
      "cell_type": "code",
      "metadata": {
        "colab": {
          "base_uri": "https://localhost:8080/",
          "height": 185
        },
        "id": "XGVQJ3HEl5ek",
        "outputId": "13e6f8ad-0436-4b6d-b7a4-980f335e6d08"
      },
      "source": [
        "print(0/0)  # Numerator is Zero so answer should be Zero,Denominator is Zero so answer should be Infinity - Undefined - NaN"
      ],
      "execution_count": 38,
      "outputs": [
        {
          "output_type": "error",
          "ename": "ZeroDivisionError",
          "evalue": "ignored",
          "traceback": [
            "\u001b[0;31m---------------------------------------------------------------------------\u001b[0m",
            "\u001b[0;31mZeroDivisionError\u001b[0m                         Traceback (most recent call last)",
            "\u001b[0;32m<ipython-input-38-cb3054f67db8>\u001b[0m in \u001b[0;36m<module>\u001b[0;34m()\u001b[0m\n\u001b[0;32m----> 1\u001b[0;31m \u001b[0mprint\u001b[0m\u001b[0;34m(\u001b[0m\u001b[0;36m0\u001b[0m\u001b[0;34m/\u001b[0m\u001b[0;36m0\u001b[0m\u001b[0;34m)\u001b[0m  \u001b[0;31m# Numerator is Zero so answer should be Zero,Denominator is Zero so answer should be Infinity - Undefined - NaN\u001b[0m\u001b[0;34m\u001b[0m\u001b[0;34m\u001b[0m\u001b[0m\n\u001b[0m",
            "\u001b[0;31mZeroDivisionError\u001b[0m: division by zero"
          ]
        }
      ]
    },
    {
      "cell_type": "code",
      "metadata": {
        "colab": {
          "base_uri": "https://localhost:8080/"
        },
        "id": "XyaW61wSmePj",
        "outputId": "edf47438-11c6-49ad-e32d-2dd5355d3d3c"
      },
      "source": [
        "print(0/56)"
      ],
      "execution_count": 39,
      "outputs": [
        {
          "output_type": "stream",
          "name": "stdout",
          "text": [
            "0.0\n"
          ]
        }
      ]
    },
    {
      "cell_type": "code",
      "metadata": {
        "colab": {
          "base_uri": "https://localhost:8080/"
        },
        "id": "5UW2XmhXmguT",
        "outputId": "82c881b2-32a2-42d5-8736-288170f23be2"
      },
      "source": [
        "import math \n",
        "radius = 4\n",
        "Volume = (4/3)*math.pi*(radius**3)\n",
        "print(Volume)"
      ],
      "execution_count": 41,
      "outputs": [
        {
          "output_type": "stream",
          "name": "stdout",
          "text": [
            "268.082573106329\n"
          ]
        }
      ]
    },
    {
      "cell_type": "code",
      "metadata": {
        "id": "ZsEs_osroJLn"
      },
      "source": [
        "# Volume of Sphere\n",
        "# Volume of Cylinder\n",
        "\n",
        "# p1(2,3) x1,y1\n",
        "# p2(3,4)\tx2,y2\n",
        "# Phone1(price,dimension,wift,ram)\n",
        "# Phone2(price,dimension,wift,ram)\n",
        "# Distance Measures - \n",
        "# Euclidean Distance\n",
        "# City Block Distance/Manhatten Distance-\n",
        "# Mahalnobis Distance\n",
        "\n"
      ],
      "execution_count": null,
      "outputs": []
    },
    {
      "cell_type": "code",
      "metadata": {
        "colab": {
          "base_uri": "https://localhost:8080/"
        },
        "id": "_mcx8aNwrl6Y",
        "outputId": "ca6f6c0d-bc2c-45db-fd27-bc59eeb00994"
      },
      "source": [
        "# Conditional Statements  - if,elif,else - these blocks are mutually exclusive\n",
        "age = 90\n",
        "if age>34: # if block\n",
        "  print('hello')\n",
        "  print('great')\n",
        "else:      # else block\n",
        "  print('world')"
      ],
      "execution_count": 48,
      "outputs": [
        {
          "output_type": "stream",
          "name": "stdout",
          "text": [
            "hello\n",
            "great\n"
          ]
        }
      ]
    },
    {
      "cell_type": "code",
      "metadata": {
        "colab": {
          "base_uri": "https://localhost:8080/"
        },
        "id": "9oovPPFPsiHs",
        "outputId": "a3727483-74d3-4ec7-de39-398cb64939bb"
      },
      "source": [
        "age = -90\n",
        "if age>34: \n",
        "  print('hello')\n",
        "  print('great')\n",
        "elif age<0:\n",
        "  print('Invalid Age')\n",
        "else:     \n",
        "  print('world')"
      ],
      "execution_count": 50,
      "outputs": [
        {
          "output_type": "stream",
          "name": "stdout",
          "text": [
            "Invalid Age\n"
          ]
        }
      ]
    },
    {
      "cell_type": "code",
      "metadata": {
        "colab": {
          "base_uri": "https://localhost:8080/"
        },
        "id": "0d08MkLfs7XV",
        "outputId": "0b505441-f610-47f5-e669-5e0b559e16d0"
      },
      "source": [
        "# WAP to find whether a number is even or odd -> 34 -> even [num%2==0]\n",
        "num = 45\n",
        "print( 'even' if num%2==0 else 'odd' ) # one-line\n",
        "\n",
        "# WAP to find whether a number is pos or neg or zero\n",
        "num = 45\n",
        "print( 'pos' if num>0  else ('neg' if num<0 else 'zero' ))   # one-line\n",
        "\n",
        "# WAP to find out a year is leap year or not.\n"
      ],
      "execution_count": 55,
      "outputs": [
        {
          "output_type": "stream",
          "name": "stdout",
          "text": [
            "odd\n",
            "pos\n"
          ]
        }
      ]
    }
  ]
}