{
  "nbformat": 4,
  "nbformat_minor": 0,
  "metadata": {
    "colab": {
      "name": "Session-II-Nov2021-PM.ipynb.ipynb",
      "provenance": [],
      "collapsed_sections": [],
      "authorship_tag": "ABX9TyNfjlkl7giRh6lkVsxB3nnq",
      "include_colab_link": true
    },
    "kernelspec": {
      "name": "python3",
      "display_name": "Python 3"
    },
    "language_info": {
      "name": "python"
    }
  },
  "cells": [
    {
      "cell_type": "markdown",
      "metadata": {
        "id": "view-in-github",
        "colab_type": "text"
      },
      "source": [
        "<a href=\"https://colab.research.google.com/github/LondonInternational/Data-Science-Batch-A-NOVAIML2021/blob/main/Session_II_Nov2021_PM_ipynb.ipynb\" target=\"_parent\"><img src=\"https://colab.research.google.com/assets/colab-badge.svg\" alt=\"Open In Colab\"/></a>"
      ]
    },
    {
      "cell_type": "code",
      "metadata": {
        "id": "qM2S-S4pogwe"
      },
      "source": [
        "# NameError\n",
        "# SyntaxError\n",
        "# ZeroDivisionError\n",
        "# TypeError\n",
        "# ValueError\n",
        "# IndentationError"
      ],
      "execution_count": 8,
      "outputs": []
    },
    {
      "cell_type": "code",
      "metadata": {
        "colab": {
          "base_uri": "https://localhost:8080/",
          "height": 167
        },
        "id": "QjVfXx5DmlMr",
        "outputId": "43b8db0e-1019-4789-f1a5-f813178a19b8"
      },
      "source": [
        "print(45/0) # should lead to infinity"
      ],
      "execution_count": 1,
      "outputs": [
        {
          "output_type": "error",
          "ename": "ZeroDivisionError",
          "evalue": "ignored",
          "traceback": [
            "\u001b[0;31m---------------------------------------------------------------------------\u001b[0m",
            "\u001b[0;31mZeroDivisionError\u001b[0m                         Traceback (most recent call last)",
            "\u001b[0;32m<ipython-input-1-3bbf0e2ed19b>\u001b[0m in \u001b[0;36m<module>\u001b[0;34m()\u001b[0m\n\u001b[0;32m----> 1\u001b[0;31m \u001b[0mprint\u001b[0m\u001b[0;34m(\u001b[0m\u001b[0;36m45\u001b[0m\u001b[0;34m/\u001b[0m\u001b[0;36m0\u001b[0m\u001b[0;34m)\u001b[0m \u001b[0;31m# should lead to infinity\u001b[0m\u001b[0;34m\u001b[0m\u001b[0;34m\u001b[0m\u001b[0m\n\u001b[0m",
            "\u001b[0;31mZeroDivisionError\u001b[0m: division by zero"
          ]
        }
      ]
    },
    {
      "cell_type": "code",
      "metadata": {
        "colab": {
          "base_uri": "https://localhost:8080/"
        },
        "id": "VcbwmHwpooHU",
        "outputId": "1e9cb828-2829-41ff-ba91-92a535433eab"
      },
      "source": [
        "# Type Conversion/Type-Casting Functions - int(), float(), str()\n",
        "\n",
        "val = 34.56 # float\n",
        "print(val)\n",
        "val = int(val) # float -> int\n",
        "print(val)\n",
        "\n",
        "print('-----------------------')\n",
        "y = 90\n",
        "print(y)\n",
        "print(float(y))\n",
        "print('-----------------------')\n",
        "\n",
        "\n"
      ],
      "execution_count": 4,
      "outputs": [
        {
          "output_type": "stream",
          "name": "stdout",
          "text": [
            "34.56\n",
            "34\n",
            "------------\n",
            "90\n",
            "90.0\n"
          ]
        }
      ]
    },
    {
      "cell_type": "code",
      "metadata": {
        "colab": {
          "base_uri": "https://localhost:8080/"
        },
        "id": "k0w8wp_4qALH",
        "outputId": "38b894e5-f213-452d-9d76-e38468540fdf"
      },
      "source": [
        "print( 45 + 90) # int + int -> int\n",
        "print( 34.56 + 67.89) # float + float -> float\n",
        "print( 34 + 67.89 ) # int + float -> float\n",
        "print('hello'+'world') # string + string -> concatenate\n"
      ],
      "execution_count": 6,
      "outputs": [
        {
          "output_type": "stream",
          "name": "stdout",
          "text": [
            "135\n",
            "102.45\n",
            "101.89\n",
            "helloworld\n"
          ]
        }
      ]
    },
    {
      "cell_type": "code",
      "metadata": {
        "colab": {
          "base_uri": "https://localhost:8080/",
          "height": 185
        },
        "id": "zHGBysK4pp9t",
        "outputId": "edf8672a-7448-4966-ef6c-c2e3893fa33f"
      },
      "source": [
        "y = '45.67' # string\n",
        "print(y+1) # string + integer -> incompatibility between the operands -> concatenation/addition"
      ],
      "execution_count": 7,
      "outputs": [
        {
          "output_type": "error",
          "ename": "TypeError",
          "evalue": "ignored",
          "traceback": [
            "\u001b[0;31m---------------------------------------------------------------------------\u001b[0m",
            "\u001b[0;31mTypeError\u001b[0m                                 Traceback (most recent call last)",
            "\u001b[0;32m<ipython-input-7-dbe1ca7cb7f9>\u001b[0m in \u001b[0;36m<module>\u001b[0;34m()\u001b[0m\n\u001b[1;32m      1\u001b[0m \u001b[0my\u001b[0m \u001b[0;34m=\u001b[0m \u001b[0;34m'45.67'\u001b[0m \u001b[0;31m# string\u001b[0m\u001b[0;34m\u001b[0m\u001b[0;34m\u001b[0m\u001b[0m\n\u001b[0;32m----> 2\u001b[0;31m \u001b[0mprint\u001b[0m\u001b[0;34m(\u001b[0m\u001b[0my\u001b[0m\u001b[0;34m+\u001b[0m\u001b[0;36m1\u001b[0m\u001b[0;34m)\u001b[0m \u001b[0;31m# string + integer -> incompatibility between the operands -> concatenation/addition\u001b[0m\u001b[0;34m\u001b[0m\u001b[0;34m\u001b[0m\u001b[0m\n\u001b[0m",
            "\u001b[0;31mTypeError\u001b[0m: can only concatenate str (not \"int\") to str"
          ]
        }
      ]
    },
    {
      "cell_type": "code",
      "metadata": {
        "colab": {
          "base_uri": "https://localhost:8080/"
        },
        "id": "bO8xorhEq5Kh",
        "outputId": "876b7115-00ce-4528-985a-3ab82b0f5870"
      },
      "source": [
        "y = '45.67' # string\n",
        "print ( float(y) + 1 ) # string + integer -> float(string) + integer -> float"
      ],
      "execution_count": 10,
      "outputs": [
        {
          "output_type": "stream",
          "name": "stdout",
          "text": [
            "46.67\n"
          ]
        }
      ]
    },
    {
      "cell_type": "code",
      "metadata": {
        "colab": {
          "base_uri": "https://localhost:8080/",
          "height": 185
        },
        "id": "GX5oKXNprJx7",
        "outputId": "cf487248-edd9-43c4-bd09-ff76fcd8a08b"
      },
      "source": [
        "y = 'cat' # string\n",
        "print(y+1)"
      ],
      "execution_count": 11,
      "outputs": [
        {
          "output_type": "error",
          "ename": "TypeError",
          "evalue": "ignored",
          "traceback": [
            "\u001b[0;31m---------------------------------------------------------------------------\u001b[0m",
            "\u001b[0;31mTypeError\u001b[0m                                 Traceback (most recent call last)",
            "\u001b[0;32m<ipython-input-11-c95fd99bab62>\u001b[0m in \u001b[0;36m<module>\u001b[0;34m()\u001b[0m\n\u001b[1;32m      1\u001b[0m \u001b[0my\u001b[0m \u001b[0;34m=\u001b[0m \u001b[0;34m'cat'\u001b[0m \u001b[0;31m# string\u001b[0m\u001b[0;34m\u001b[0m\u001b[0;34m\u001b[0m\u001b[0m\n\u001b[0;32m----> 2\u001b[0;31m \u001b[0mprint\u001b[0m\u001b[0;34m(\u001b[0m\u001b[0my\u001b[0m\u001b[0;34m+\u001b[0m\u001b[0;36m1\u001b[0m\u001b[0;34m)\u001b[0m\u001b[0;34m\u001b[0m\u001b[0;34m\u001b[0m\u001b[0m\n\u001b[0m",
            "\u001b[0;31mTypeError\u001b[0m: can only concatenate str (not \"int\") to str"
          ]
        }
      ]
    },
    {
      "cell_type": "code",
      "metadata": {
        "colab": {
          "base_uri": "https://localhost:8080/"
        },
        "id": "PC1jgGparZ4O",
        "outputId": "719701d9-e16d-4eb3-b4d5-698c8ea645da"
      },
      "source": [
        "# expected output -> cat1\n",
        " \n",
        "y = 'cat' # string\n",
        "print(y + str(1))"
      ],
      "execution_count": 12,
      "outputs": [
        {
          "output_type": "stream",
          "name": "stdout",
          "text": [
            "cat1\n"
          ]
        }
      ]
    },
    {
      "cell_type": "code",
      "metadata": {
        "colab": {
          "base_uri": "https://localhost:8080/"
        },
        "id": "pDEPAsBTrjC9",
        "outputId": "aebd6dc0-03fd-484d-f883-f43e4eca3940"
      },
      "source": [
        "# print a text string -> I am amit and I was born in 1990\n",
        "\n",
        "print( 'I am amit and I was born in 1990' )\n",
        "print( 'I am amit and I was born in', 1990)\n",
        "print( 'I am amit and I was born in ' + str(1990) ) # str + str -> concatednated str"
      ],
      "execution_count": 16,
      "outputs": [
        {
          "output_type": "stream",
          "name": "stdout",
          "text": [
            "I am amit and I was born in 1990\n",
            "I am amit and I was born in 1990\n",
            "I am amit and I was born in 1990\n"
          ]
        }
      ]
    },
    {
      "cell_type": "code",
      "metadata": {
        "colab": {
          "base_uri": "https://localhost:8080/"
        },
        "id": "G9PtXMVjsST8",
        "outputId": "e37fe60f-2244-4c31-c6f3-298151aeca97"
      },
      "source": [
        "float(67) # float(int) -> float"
      ],
      "execution_count": 17,
      "outputs": [
        {
          "output_type": "execute_result",
          "data": {
            "text/plain": [
              "67.0"
            ]
          },
          "metadata": {},
          "execution_count": 17
        }
      ]
    },
    {
      "cell_type": "code",
      "metadata": {
        "colab": {
          "base_uri": "https://localhost:8080/"
        },
        "id": "oKRwtrxesafd",
        "outputId": "0bfe2308-7c1d-413c-cfc6-022068e8aa82"
      },
      "source": [
        "float('67') # float(NumStr) -> float"
      ],
      "execution_count": 18,
      "outputs": [
        {
          "output_type": "execute_result",
          "data": {
            "text/plain": [
              "67.0"
            ]
          },
          "metadata": {},
          "execution_count": 18
        }
      ]
    },
    {
      "cell_type": "code",
      "metadata": {
        "colab": {
          "base_uri": "https://localhost:8080/",
          "height": 167
        },
        "id": "eISoKrCSsgUp",
        "outputId": "a84708cb-cbfd-43c8-d898-41ea5401aa62"
      },
      "source": [
        "float('cat')  # float(CharStr) -> ValueError"
      ],
      "execution_count": 20,
      "outputs": [
        {
          "output_type": "error",
          "ename": "ValueError",
          "evalue": "ignored",
          "traceback": [
            "\u001b[0;31m---------------------------------------------------------------------------\u001b[0m",
            "\u001b[0;31mValueError\u001b[0m                                Traceback (most recent call last)",
            "\u001b[0;32m<ipython-input-20-f901845f77e9>\u001b[0m in \u001b[0;36m<module>\u001b[0;34m()\u001b[0m\n\u001b[0;32m----> 1\u001b[0;31m \u001b[0mfloat\u001b[0m\u001b[0;34m(\u001b[0m\u001b[0;34m'cat'\u001b[0m\u001b[0;34m)\u001b[0m  \u001b[0;31m# float(CharStr) -> ValueError\u001b[0m\u001b[0;34m\u001b[0m\u001b[0;34m\u001b[0m\u001b[0m\n\u001b[0m",
            "\u001b[0;31mValueError\u001b[0m: could not convert string to float: 'cat'"
          ]
        }
      ]
    },
    {
      "cell_type": "code",
      "metadata": {
        "colab": {
          "base_uri": "https://localhost:8080/",
          "height": 132
        },
        "id": "_p8ORaDZs-yp",
        "outputId": "cdb87ceb-9cd4-450b-d15c-1509d8300dee"
      },
      "source": [
        "# space-sensitive language\n",
        "x = 90\n",
        "y = 80\n",
        "  print(x+y)\n",
        "\n"
      ],
      "execution_count": 21,
      "outputs": [
        {
          "output_type": "error",
          "ename": "IndentationError",
          "evalue": "ignored",
          "traceback": [
            "\u001b[0;36m  File \u001b[0;32m\"<ipython-input-21-44fee2abe31b>\"\u001b[0;36m, line \u001b[0;32m3\u001b[0m\n\u001b[0;31m    print(x+y)\u001b[0m\n\u001b[0m    ^\u001b[0m\n\u001b[0;31mIndentationError\u001b[0m\u001b[0;31m:\u001b[0m unexpected indent\n"
          ]
        }
      ]
    },
    {
      "cell_type": "code",
      "metadata": {
        "colab": {
          "base_uri": "https://localhost:8080/",
          "height": 132
        },
        "id": "pA6Il0gTtdw4",
        "outputId": "e5b6e063-8656-4af8-a295-9d8bca25c2ba"
      },
      "source": [
        "# Syntax Error\n",
        "\n",
        "print('hello'"
      ],
      "execution_count": 23,
      "outputs": [
        {
          "output_type": "error",
          "ename": "SyntaxError",
          "evalue": "ignored",
          "traceback": [
            "\u001b[0;36m  File \u001b[0;32m\"<ipython-input-23-2b57a0550623>\"\u001b[0;36m, line \u001b[0;32m3\u001b[0m\n\u001b[0;31m    print('hello'\u001b[0m\n\u001b[0m                 ^\u001b[0m\n\u001b[0;31mSyntaxError\u001b[0m\u001b[0;31m:\u001b[0m unexpected EOF while parsing\n"
          ]
        }
      ]
    },
    {
      "cell_type": "code",
      "metadata": {
        "colab": {
          "base_uri": "https://localhost:8080/"
        },
        "id": "H8mLcg-Pt4xx",
        "outputId": "6bf42a3f-82a1-45e8-da4a-ad91dc4fd7ac"
      },
      "source": [
        "# Membership Operators (in, not in) return True/False\n",
        "\n",
        "numList = [45,67,689]\n",
        "\n",
        "print(56 in numList) # Is 56 a member of numList -> False\n",
        "\n",
        "print(6 in numList) # Is 6 a member of numList -> False\n",
        "\n",
        "print(56 not in numList) # Is 56 not a member of numList -> True\n",
        "\n",
        "print( 'S' in 'Sata') # True\n",
        "\n",
        "print( '67' in numList) # False\n",
        "\n",
        "print( int('67') in numList) # True\n"
      ],
      "execution_count": 29,
      "outputs": [
        {
          "output_type": "stream",
          "name": "stdout",
          "text": [
            "False\n",
            "False\n",
            "True\n",
            "True\n",
            "False\n",
            "True\n"
          ]
        }
      ]
    },
    {
      "cell_type": "code",
      "metadata": {
        "colab": {
          "base_uri": "https://localhost:8080/"
        },
        "id": "83qDLfKpvM3k",
        "outputId": "363c4bc9-b8d2-4840-ccc8-a8a2258e7d2d"
      },
      "source": [
        "# Identity Operators (is, is not)  return True/False        # !=, ==[Relational Operators]\n",
        "\n",
        "print( 90 is 45) # False\n",
        "print( 90 is not 45)  # True\n",
        "print( 90 != 45) # True\n",
        "print( 90 == 45)  # False\n",
        "\n",
        "print('s' is not 'S')"
      ],
      "execution_count": 34,
      "outputs": [
        {
          "output_type": "stream",
          "name": "stdout",
          "text": [
            "False\n",
            "True\n",
            "True\n",
            "False\n",
            "True\n"
          ]
        }
      ]
    },
    {
      "cell_type": "code",
      "metadata": {
        "colab": {
          "base_uri": "https://localhost:8080/"
        },
        "id": "vcJAW0EivgwN",
        "outputId": "5b6b3bd0-9f35-430f-bce5-0c6449e04b63"
      },
      "source": [
        "# Bitwise Operators (&,|,^,>>,<<,~) return True/False -> \n",
        "# Work at bit-level\n",
        "\n",
        "# Number System - Decimal System (0-9), Binary(0-1), Octal(0-7), HexaDecimal(0-9A-F)\n",
        "\n",
        "x = 4 \n",
        "y = 2\n",
        "\n",
        "print(x & y)\n",
        "\n",
        "# True and True -> True\n",
        "#  1    &    1 ->   1\n",
        "\n",
        "# x = 4   0100\n",
        "#         &\n",
        "# y = 2   0010\n",
        "#       -------\n",
        "#         0000 (binary)  -> 0 (Decimal)\n"
      ],
      "execution_count": 36,
      "outputs": [
        {
          "output_type": "stream",
          "name": "stdout",
          "text": [
            "0\n"
          ]
        }
      ]
    },
    {
      "cell_type": "code",
      "metadata": {
        "colab": {
          "base_uri": "https://localhost:8080/"
        },
        "id": "S8AWzPKqyVZU",
        "outputId": "5a6538ff-9aee-48fe-d2cd-f1456c45d6c4"
      },
      "source": [
        "\n",
        "x = 8\n",
        "y = 3\n",
        "\n",
        "print(x & y)   # binary AND operator\n",
        "\n",
        "# True and True -> True\n",
        "#  1    &    1 ->   1\n",
        "\n",
        "# x = 8   1000\n",
        "#         &\n",
        "# y = 3   0011\n",
        "#       -------\n",
        "#         0000 (binary)  -> 0 (Decimal)"
      ],
      "execution_count": 37,
      "outputs": [
        {
          "output_type": "stream",
          "name": "stdout",
          "text": [
            "0\n"
          ]
        }
      ]
    },
    {
      "cell_type": "code",
      "metadata": {
        "colab": {
          "base_uri": "https://localhost:8080/"
        },
        "id": "lpYhq3JNypVV",
        "outputId": "097010c3-1bed-49bc-be23-94b3298a87cf"
      },
      "source": [
        "\n",
        "x = 4 \n",
        "y = 2\n",
        "\n",
        "print(x | y)  # binary OR operator\n",
        "\n",
        "\n",
        "# x = 4   0100\n",
        "#         |\n",
        "# y = 2   0010\n",
        "#       -------\n",
        "#         0110 (binary)  -> 6 (Decimal)"
      ],
      "execution_count": 38,
      "outputs": [
        {
          "output_type": "stream",
          "name": "stdout",
          "text": [
            "6\n"
          ]
        }
      ]
    },
    {
      "cell_type": "code",
      "metadata": {
        "colab": {
          "base_uri": "https://localhost:8080/"
        },
        "id": "lxCfUQany7D2",
        "outputId": "554e84b6-5026-4aef-83b3-991b1ce927f6"
      },
      "source": [
        "\n",
        "x = 8 \n",
        "y = 3\n",
        "\n",
        "print(x | y)  # binary OR operator\n",
        "\n",
        "\n",
        "# x = 8   1000\n",
        "#         |\n",
        "# y = 3   0011\n",
        "#       -------\n",
        "#         1011 (binary)  -> 11 (Decimal)"
      ],
      "execution_count": 39,
      "outputs": [
        {
          "output_type": "stream",
          "name": "stdout",
          "text": [
            "11\n"
          ]
        }
      ]
    },
    {
      "cell_type": "code",
      "metadata": {
        "colab": {
          "base_uri": "https://localhost:8080/"
        },
        "id": "IsjOo5XQzM2Q",
        "outputId": "8e394865-a246-4b32-eb03-7d759e7064a6"
      },
      "source": [
        "print( 4 << 1)  # left-shift operator -> Shift the bit towards left  by 1 bit [ val << pos ]\n",
        "\n",
        "# 4 - 0100\n",
        "#     << 1\n",
        "#     ----\n",
        "#     1000(binary) -> 8(decimal)\n"
      ],
      "execution_count": 41,
      "outputs": [
        {
          "output_type": "stream",
          "name": "stdout",
          "text": [
            "8\n"
          ]
        }
      ]
    },
    {
      "cell_type": "code",
      "metadata": {
        "colab": {
          "base_uri": "https://localhost:8080/"
        },
        "id": "T85EMqw0z1oU",
        "outputId": "16924ecc-407a-490e-ac83-ce4f2037aef2"
      },
      "source": [
        "print( 4 >> 1)  # right-shift operator -> Shift the bit towards right  by 1 bit [ val >> pos ]\n",
        "\n",
        "# 4 - 0100\n",
        "#     >> 1\n",
        "#     ----\n",
        "#     0010(binary) -> 2(decimal)\n"
      ],
      "execution_count": 42,
      "outputs": [
        {
          "output_type": "stream",
          "name": "stdout",
          "text": [
            "2\n"
          ]
        }
      ]
    },
    {
      "cell_type": "code",
      "metadata": {
        "colab": {
          "base_uri": "https://localhost:8080/"
        },
        "id": "Yob0D7aa0HIc",
        "outputId": "a37004a4-b424-4efa-80cc-86b482c2612c"
      },
      "source": [
        "# Assignment Operators (=,+=,/=,-=)\n",
        "\n",
        "x = 90\n",
        "print(x)\n",
        "\n",
        "x += 1  # x = x + 1 \n",
        "print(x)\n"
      ],
      "execution_count": 50,
      "outputs": [
        {
          "output_type": "stream",
          "name": "stdout",
          "text": [
            "90\n",
            "91\n"
          ]
        }
      ]
    },
    {
      "cell_type": "code",
      "metadata": {
        "colab": {
          "base_uri": "https://localhost:8080/"
        },
        "id": "hMoCi7rW1QiB",
        "outputId": "83c14e85-d901-4784-d191-be7df567fdc9"
      },
      "source": [
        "x = 90.7\n",
        "\n",
        "x /= 2  # x = x / 2 \n",
        "print(x) # float\n",
        "\n",
        "\n",
        "x //= 2  # x = x // 2  \n",
        "print(x) # float but decimal is zero\n",
        "print(int(x)) # float -> int\n",
        "\n",
        "# integer division operator returns float in case if numerator is a float value"
      ],
      "execution_count": 52,
      "outputs": [
        {
          "output_type": "stream",
          "name": "stdout",
          "text": [
            "45.35\n",
            "22.0\n",
            "22\n"
          ]
        }
      ]
    },
    {
      "cell_type": "code",
      "metadata": {
        "colab": {
          "base_uri": "https://localhost:8080/"
        },
        "id": "0tg-H_Ve11W7",
        "outputId": "2050ef6b-f88f-417b-e70c-a6b782a5c332"
      },
      "source": [
        "22/7  # upto 15 decimals -- why?? --> approximation"
      ],
      "execution_count": 53,
      "outputs": [
        {
          "output_type": "execute_result",
          "data": {
            "text/plain": [
              "3.142857142857143"
            ]
          },
          "metadata": {},
          "execution_count": 53
        }
      ]
    },
    {
      "cell_type": "code",
      "metadata": {
        "colab": {
          "base_uri": "https://localhost:8080/"
        },
        "id": "L1TyYdj12K3M",
        "outputId": "027a222e-dae6-47f0-c155-00386208b6cf"
      },
      "source": [
        "# Condtional Statement : if, elif and else - mutually exclusive\n",
        "\n",
        "x = 90\n",
        "\n",
        "if (x>78):\n",
        "  print('hello')\n",
        "else:\n",
        "  print(\"world\")"
      ],
      "execution_count": 54,
      "outputs": [
        {
          "output_type": "stream",
          "name": "stdout",
          "text": [
            "hello\n"
          ]
        }
      ]
    },
    {
      "cell_type": "code",
      "metadata": {
        "colab": {
          "base_uri": "https://localhost:8080/"
        },
        "id": "tqWaszHr3v0J",
        "outputId": "5abaa3de-cc68-4a38-de2c-3438bf4af93b"
      },
      "source": [
        "age = 90\n",
        "\n",
        "if (x>18):\n",
        "  print('welcome')\n",
        "elif (x<18):\n",
        "  print('Entry Restricted')\n",
        "else:\n",
        "  print(\"Invalid input\")"
      ],
      "execution_count": 56,
      "outputs": [
        {
          "output_type": "stream",
          "name": "stdout",
          "text": [
            "welcome\n"
          ]
        }
      ]
    }
  ]
}